{
 "cells": [
  {
   "cell_type": "markdown",
   "metadata": {},
   "source": [
    "## Purpose"
   ]
  },
  {
   "cell_type": "markdown",
   "metadata": {},
   "source": [
    "A superstore operating within the US has given us the task to identify what works best for them in terms of sales and making profit. Using exploratory data analysis (EDA) we will help them identify:\n",
    "Their most and least profitable product categories\n",
    "Segment analysis of sales and profit\n",
    "Geographical analysis of sales and profit\n",
    "Given the insights gained from the EDA, the superstore can choose to remove non-profitable products or invest in marketing efforts for products, segments and geographical areas that are driving their profit\n",
    "\n",
    "ABSTRACT\n",
    "THE SUPER STORE DATASET CONTAINS DATA ON ORDER DETAILS OF 1 CUSTOMERS AND STATISTICS ON THE PRODUCTS PURCHASED, THE CITIES AND THE DATE ON WHICH THEY WERE PURCHASED\n",
    "\n",
    "DESIGN\n",
    "THIS PROJECT ORIGINATES FROM THE DATA SCIENCE BOOTCAMP(T5) BY USING THE DATASET THROUGH DATA EXPLORATORY DATA ANALYSIS\n",
    "\n",
    "Today I am going to work on a Super store dataset to analyse to data and get some useful insights about the features available, which in-turn will help the organisation to improve their business and increase their profit. I found this dataset an ideal real-life dataset to implement all I have learnt from the Zero to Pandas workshop arranged by Jovian.ml. So, without wasting any more time we will jump straight to Data Cleaning or Pre-processing after downloading the dataset into the environment."
   ]
  },
  {
   "cell_type": "markdown",
   "metadata": {},
   "source": [
    "Context: With growing demands and cut-throat competitions in the market, a Superstore Giant is seeking your knowledge in understanding what works best for them. They would like to understand which products, regions, categories and customer segments they should target or avoid.\n",
    "\n",
    "Context\n",
    "\n",
    "A superstore gave us a task to understand what segments, regions, cities or customers they should be focusing on in order to increase their profit and sales. For this task, Its historical sales were given to us. The goal is to give practical insights to improve profit based on sales. For this task, we will first approach an exploratory data analysis to see we find answers for this problem. So, if we do not find good solutions using exploratory data analysis, we will train a linear machine learning model to understand which are the attributes that impact more our sales and profit."
   ]
  },
  {
   "cell_type": "markdown",
   "metadata": {},
   "source": [
    "Analysis questions:-¶\n",
    "which state of US has higher frequency of sales?\n",
    "in which year we had max sales?\n",
    "in which month we have max sales?\n",
    "which days of the month yield higher sales?\n",
    "what are the top 10 states with high sales?\n",
    "what are the top 20 cities with high sales?\n",
    "top products highly in demand?\n",
    "Most frequent customers?"
   ]
  },
  {
   "cell_type": "markdown",
   "metadata": {},
   "source": [
    "## Data"
   ]
  },
  {
   "cell_type": "markdown",
   "metadata": {},
   "source": [
    "Row ID => Unique ID for each row.\n",
    "Order ID => Unique Order ID for each Customer.\n",
    "Order Date => Order Date of the product.\n",
    "Ship Date => Shipping Date of the Product.\n",
    "Ship Mode=> Shipping Mode specified by the Customer.\n",
    "Customer ID => Unique ID to identify each Customer.\n",
    "Customer Name => Name of the Customer.\n",
    "Segment => The segment where the Customer belongs.\n",
    "Country => Country of residence of the Customer.\n",
    "City => City of residence of of the Customer.\n",
    "State => State of residence of the Customer.\n",
    "Postal Code => Postal Code of every Customer.\n",
    "Region => Region where the Customer belong.\n",
    "Product ID => Unique ID of the Product.\n",
    "Category => Category of the product ordered.\n",
    "Sub-Category => Sub-Category of the product ordered.\n",
    "Product Name => Name of the Product\n",
    "Sales => Sales of the Product.\n",
    "Quantity => Quantity of the Product.\n",
    "Discount => Discount provided.\n",
    "Profit => Profit/Loss incurred."
   ]
  },
  {
   "cell_type": "markdown",
   "metadata": {},
   "source": [
    "List of all the python libraries that are required:\n",
    "\n",
    "Library pandas will be required to work with data in tabular representation.\n",
    "Library numpy will be required to round the data in the correlation matrix.\n",
    "Library warning will be required to ignore all warnings.\n",
    "Library matplotlib, seaborn, plotly required for data visualization."
   ]
  },
  {
   "cell_type": "markdown",
   "metadata": {},
   "source": [
    "## Conclusion"
   ]
  },
  {
   "cell_type": "markdown",
   "metadata": {},
   "source": [
    "1.The overall annual profit of this supermarket is increasing year by year, and its business seems to be going well.Meanwhile, profits in the second half of the year will generally be higher than those in the first half.Was it due to Black Friday?(LOL)"
   ]
  },
  {
   "cell_type": "markdown",
   "metadata": {},
   "source": [
    "2.Analysis of regional sales shows that Asia-Pacific is the region with the highest sales volume, while Canada is the region with the lowest sales volume.Our Canadian friends seems to be very reluctant to spend in this supermarket."
   ]
  },
  {
   "cell_type": "markdown",
   "metadata": {},
   "source": [
    "There are two possibilities for this:\n",
    "\n",
    "Firstly,the supermarket doesn't have enough branches in Canada.The solution is to open a few more stores, perhaps to increase sales a little in this area.\n",
    "\n",
    "Secondly,the localization of this supermarket is not enough, and the local publicity is not complete.The solution is to further promote the localization process and increase local consumer appetite, which can also drive sales growth. </font>"
   ]
  },
  {
   "cell_type": "markdown",
   "metadata": {},
   "source": [
    "3.Check for the analysis of commodities, we can easily find that:\n",
    "\n",
    "Most of the sales were office supplies.\n",
    "\n",
    "Most of the highest sales are electronics and furniture, which are more expensive.\n",
    "\n",
    "Half of the top 10 profitable items are electronics products, so you can focus on increasing sales of these products to increase overall profits. </font>"
   ]
  },
  {
   "cell_type": "markdown",
   "metadata": {},
   "source": [
    "4.Customer type analysis shows that in the past four years, ordinary consumers account for the largest proportion of customers.It can increase the amount of commodities imported.You can also focus on this type of audience when you do your publicity."
   ]
  },
  {
   "cell_type": "markdown",
   "metadata": {},
   "source": [
    "So that's the all for this article. Of course, I believe that this is enough for your reference to make your own data feature analysis."
   ]
  },
  {
   "cell_type": "markdown",
   "metadata": {},
   "source": [
    "Final Conclusions:¶\n",
    "Consider following recommendations for higher profit:-\n",
    "\n",
    "Focus on category Technology like Phones as they are highest selling and most profitable. Bundle them with the less profitable products to offset the losses like tables and suppplies.\n",
    "Selling bookcases, tables and supplies result in losses, so SuperStores has to consider to bundle them together with High Selling or Profitable sub-category such as Machines, Copiers, Phones etc.\n",
    "For Home Offices customers, these people might be busy with work and less likely to spend time selecting individual products, so creating a Home Office Catalog with products used for offices such as paper, chairs, phone, copiers, storage,machines would result in better profits.\n",
    "Target consumer customers from East and West region of top 10 cities with most profits, with special promotions and advertisments for copiers, phones, accessories etc."
   ]
  }
 ],
 "metadata": {
  "kernelspec": {
   "display_name": "Python 3",
   "language": "python",
   "name": "python3"
  },
  "language_info": {
   "codemirror_mode": {
    "name": "ipython",
    "version": 3
   },
   "file_extension": ".py",
   "mimetype": "text/x-python",
   "name": "python",
   "nbconvert_exporter": "python",
   "pygments_lexer": "ipython3",
   "version": "3.8.3"
  }
 },
 "nbformat": 4,
 "nbformat_minor": 4
}
